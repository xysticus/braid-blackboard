{
 "cells": [
  {
   "cell_type": "markdown",
   "metadata": {},
   "source": [
    "Shift + Entrée pour avancer dans le notebook"
   ]
  },
  {
   "cell_type": "code",
   "execution_count": 23,
   "metadata": {},
   "outputs": [],
   "source": [
    "from ipycanvas import Canvas\n",
    "from typing import List\n",
    "\n",
    "import math\n",
    "\n",
    "def dessine_tresse(tresse: List[int], en_couleur = True, couleur_fond = 'white',\n",
    "                  fraction_brin = 5, fraction_trou = 12) -> Canvas :\n",
    "    \"\"\" Dessine une tresse sur un Canvas d'après son mot\n",
    "    \n",
    "        Args:\n",
    "            tresse: mot de tresse\n",
    "            \n",
    "        Return:\n",
    "            le canvas avec le dessin\n",
    "    \"\"\"\n",
    "\n",
    "    # calcul de la taille des éléments\n",
    "    maille = 60\n",
    "    demi_maille = maille / 2    \n",
    "    n = abs(max(tresse, key = lambda x:abs(x))) # nombre de colonnes\n",
    "    largeur = n * maille + 25  \n",
    "    hauteur = len(tresse)*maille +20\n",
    "    \n",
    "    # calcul sur les liens\n",
    "    largeur_brin = maille / fraction_brin\n",
    "    if fraction_trou == 0: largeur_trou = 0 \n",
    "    else: largeur_trou = maille / fraction_trou\n",
    "   \n",
    "    # création du canvas. Le dernier argument c'est pour pouvoir faire l'export en png\n",
    "    canvas = Canvas(width=largeur, height = hauteur, sync_image_data=True) \n",
    "    \n",
    "    # un fond en couleur\n",
    "    fond = couleur_fond\n",
    "    canvas.global_alpha = 1\n",
    "    canvas.fill_style = fond\n",
    "    canvas.fill_rect(0, 0, largeur, hauteur)\n",
    "   \n",
    "    \n",
    "    # couleur et style des lignes\n",
    "    canvas.line_cap = 'round'\n",
    "\n",
    "    if en_couleur: couleurs = ['green', 'yellow', 'pink', 'red', 'blue', 'orange']\n",
    "    else: couleurs = ['black', 'black', 'black', 'black', 'black', 'black']\n",
    "        \n",
    "    couleurs = couleurs * (n // len(couleurs) + 1) # il faut au moins autant des couleurs pour tous les brins\n",
    "    \n",
    "    # on prend une marge\n",
    "    canvas.translate(10, 10)\n",
    "    \n",
    "    # on se donne une fonction pour dessiner une ligne avec un croisement sigma\n",
    "    def cross(sigma): \n",
    "        colonne = abs(sigma) - 1\n",
    "        canvas.save()\n",
    "        \n",
    "        def de_gauche_a_droite(couleur, devant):  # pour dessiner un brin en diagonale gauche droite\n",
    "            if not(devant):\n",
    "                canvas.save()\n",
    "                canvas.begin_path()\n",
    "                canvas.stroke_style = couleur\n",
    "                canvas.line_width = largeur_brin         \n",
    "                canvas.move_to(0 , 0)\n",
    "                canvas.line_to(demi_maille - 2.5 * largeur_trou, demi_maille - 2.5 * largeur_trou)\n",
    "                #canvas.bezier_curve_to(0, demi_maille/2, \n",
    "                #                       0, 0,  \n",
    "                #                       demi_maille - 2 * largeur_trou, demi_maille - 2 * largeur_trou)\n",
    "                canvas.stroke()\n",
    "                canvas.restore()\n",
    "                canvas.begin_path()\n",
    "                canvas.stroke_style = couleur\n",
    "                canvas.line_width = largeur_brin\n",
    "                canvas.move_to(demi_maille + 2.5 * largeur_trou, demi_maille + 2.5 * largeur_trou)\n",
    "                canvas.line_to(maille, maille)\n",
    "                #canvas.bezier_curve_to(0, 0, maille, demi_maille, maille, maille)\n",
    "                canvas.stroke()\n",
    "            else:\n",
    "                canvas.save()\n",
    "                canvas.begin_path()\n",
    "                canvas.stroke_style = couleur\n",
    "                canvas.line_width = largeur_brin         \n",
    "                canvas.move_to(0 , 0)\n",
    "                canvas.line_to(maille, maille)\n",
    "                #canvas.bezier_curve_to(demi_maille, 0, 0, 0, \n",
    "                #                        demi_maille - 2*largeur_trou, demi_maille - 2*largeur_trou)\n",
    "                canvas.stroke()\n",
    "                canvas.restore()\n",
    "                \n",
    "                    \n",
    "            \n",
    "            \n",
    "        def de_droite_a_gauche(couleur,devant): # pour dessiner un brin en diagonale droite gauche\n",
    "            if not(devant):\n",
    "                canvas.save()\n",
    "                canvas.begin_path()\n",
    "                canvas.stroke_style = couleur\n",
    "                canvas.line_width = largeur_brin\n",
    "                canvas.move_to(maille, 0)\n",
    "                canvas.line_to(demi_maille + 2.5 * largeur_trou, demi_maille - 2.5 * largeur_trou)\n",
    "                #canvas.bezier_curve_to(maille, demi_maille, 0, maille - demi_maille, 0, maille)\n",
    "                canvas.stroke()\n",
    "                canvas.restore()\n",
    "                canvas.begin_path()\n",
    "                canvas.stroke_style = couleur\n",
    "                canvas.line_width = largeur_brin\n",
    "                canvas.move_to(demi_maille - 2.5 * largeur_trou, demi_maille + 2.5 * largeur_trou)\n",
    "                canvas.line_to(0, maille)\n",
    "                #canvas.bezier_curve_to(maille, demi_maille, 0, maille - demi_maille, 0, maille+1)\n",
    "                canvas.stroke()\n",
    "            else:\n",
    "                canvas.save()\n",
    "                canvas.begin_path()\n",
    "                canvas.stroke_style = couleur\n",
    "                canvas.line_width = largeur_brin\n",
    "                canvas.move_to(maille, 0)\n",
    "                canvas.line_to(0, maille)\n",
    "                #canvas.bezier_curve_to(maille, demi_maille, 0, maille - demi_maille, 0, maille)\n",
    "                canvas.stroke()\n",
    "                canvas.restore()\n",
    "\n",
    "                \n",
    "        def tout_droit(cln):        # pour dessiner brin tout droit\n",
    "            canvas.begin_path()\n",
    "            canvas.stroke_style = couleurs[cln]\n",
    "            canvas.move_to(0 , 0)\n",
    "            canvas.line_width = largeur_brin\n",
    "            canvas.line_to(0, maille)\n",
    "            canvas.stroke()\n",
    "        \n",
    "        for i in range(n+1):              # on boucle sur les colonnes\n",
    "            if i == colonne:              # c'est un croisement\n",
    "                if sigma > 0:             # il est positif                   \n",
    "                    de_gauche_a_droite(couleurs[colonne],False)\n",
    "                    de_droite_a_gauche(couleurs[colonne + 1],True)\n",
    "                else:                     # il est négatif\n",
    "                    de_droite_a_gauche(couleurs[colonne + 1],False)\n",
    "                    de_gauche_a_droite(couleurs[colonne],True)\n",
    "            elif i < colonne or i > colonne + 1:  # c'est tout droit\n",
    "                tout_droit(i)\n",
    "        \n",
    "            canvas.translate(maille, 0)  # quoiqu'il arrive on se décale d'une colonne à droite      \n",
    "\n",
    "        canvas.restore()\n",
    "\n",
    "        # on permute les colonnes correspondant au générateur traité\n",
    "        couleurs[colonne], couleurs[colonne + 1] = couleurs[colonne + 1], couleurs[colonne] \n",
    "\n",
    "   \n",
    "    for sigma in tresse:          # on boucle sur les générateurs\n",
    "        cross(sigma)              # on dessine la ligne\n",
    "        canvas.translate(0, maille)  # on descend d'une ligne\n",
    "        \n",
    "    return canvas   \n"
   ]
  },
  {
   "attachments": {
    "t4m23m2line.png": {
     "image/png": "[encoded data removed]"
    }
   },
   "cell_type": "markdown",
   "metadata": {},
   "source": [
    "La tresse $ \\sigma_4 \\sigma_{-2} \\sigma_3 \\sigma_{-2} $\n",
    "![t4m23m2line.png](attachment:t4m23m2line.png)"
   ]
  },
  {
   "cell_type": "code",
   "execution_count": 24,
   "metadata": {},
   "outputs": [
    {
     "data": {
      "application/vnd.jupyter.widget-view+json": {
       "model_id": "7e7ffc89ab5643b5bb8162103032d7b5",
       "version_major": 2,
       "version_minor": 0
      },
      "text/plain": [
       "Canvas(height=260, sync_image_data=True, width=265)"
      ]
     },
     "metadata": {},
     "output_type": "display_data"
    }
   ],
   "source": [
    "t1 = dessine_tresse([4, -2, 3, -2], fraction_brin=5, fraction_trou=12)\n",
    "t1"
   ]
  },
  {
   "attachments": {
    "nb432112line.png": {
     "image/png": "[encoded data removed]"
    }
   },
   "cell_type": "markdown",
   "metadata": {},
   "source": [
    "La tresse $ \\sigma_4 \\sigma_3 \\sigma_2 \\sigma_1 \\sigma_1\\sigma_2 $\n",
    "![nb432112line.png](attachment:nb432112line.png)"
   ]
  },
  {
   "cell_type": "code",
   "execution_count": 25,
   "metadata": {},
   "outputs": [
    {
     "data": {
      "application/vnd.jupyter.widget-view+json": {
       "model_id": "39cea98750d442f8904bd653b36824c2",
       "version_major": 2,
       "version_minor": 0
      },
      "text/plain": [
       "Canvas(height=380, sync_image_data=True, width=265)"
      ]
     },
     "metadata": {},
     "output_type": "display_data"
    }
   ],
   "source": [
    "en_couleur = False\n",
    "t2 = dessine_tresse([4, 3, 2, 1, 1, 2], False)\n",
    "t2"
   ]
  },
  {
   "cell_type": "code",
   "execution_count": 26,
   "metadata": {},
   "outputs": [
    {
     "data": {
      "application/vnd.jupyter.widget-view+json": {
       "model_id": "4177518fbff04597a3fb2a8cd2279eb5",
       "version_major": 2,
       "version_minor": 0
      },
      "text/plain": [
       "Canvas(height=200, sync_image_data=True, width=445)"
      ]
     },
     "metadata": {},
     "output_type": "display_data"
    }
   ],
   "source": [
    "t3 = dessine_tresse([-1, -2, -7])\n",
    "t3"
   ]
  },
  {
   "cell_type": "code",
   "execution_count": 27,
   "metadata": {},
   "outputs": [],
   "source": [
    "t1.to_file('../imgs/t4m23m2line.png')\n",
    "t2.to_file('../imgs/nb432112line.png')\n",
    "t3.to_file('../imgs/m1m2m7line.png')"
   ]
  },
  {
   "cell_type": "code",
   "execution_count": null,
   "metadata": {},
   "outputs": [],
   "source": []
  }
 ],
 "metadata": {
  "kernelspec": {
   "display_name": "Python 3",
   "language": "python",
   "name": "python3"
  },
  "language_info": {
   "codemirror_mode": {
    "name": "ipython",
    "version": 3
   },
   "file_extension": ".py",
   "mimetype": "text/x-python",
   "name": "python",
   "nbconvert_exporter": "python",
   "pygments_lexer": "ipython3",
   "version": "3.7.7"
  }
 },
 "nbformat": 4,
 "nbformat_minor": 4
}
