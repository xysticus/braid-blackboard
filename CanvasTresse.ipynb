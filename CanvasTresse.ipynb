{
 "cells": [
  {
   "cell_type": "code",
   "execution_count": 64,
   "metadata": {},
   "outputs": [],
   "source": [
    "from ipycanvas import Canvas\n",
    "from typing import List\n",
    "\n",
    "import math\n",
    "\n",
    "def dessine_tresse(tresse: List[int]) -> Canvas :\n",
    "    \"\"\" Dessine une tresse sur un Canvas d'après son mot\n",
    "    \n",
    "        Args:\n",
    "            tresse: mot de tresse\n",
    "            \n",
    "        Return:\n",
    "            le canvas avec le dessin\n",
    "    \"\"\"\n",
    "\n",
    "    # calcul de la taille des éléments\n",
    "    maille = 60\n",
    "    demi_maille = maille / 2    \n",
    "    n = abs(max(tresse, key = lambda x:abs(x))) # nombre de colonnes\n",
    "    largeur = n * maille + 25  \n",
    "    hauteur = len(tresse)*maille +20\n",
    "   \n",
    "    # création du canvas. Le dernier argument c'est pour pouvoir faire l'export en png\n",
    "    canvas = Canvas(width=largeur, height = hauteur, sync_image_data=True) \n",
    "    \n",
    "    # couleur et style des lignes\n",
    "    canvas.fill_style = 'beige'\n",
    "    canvas.fill_rect(0, 0, largeur, hauteur)\n",
    "    \n",
    "    canvas.line_width = maille / 10\n",
    "    canvas.line_cap = 'round'\n",
    "        \n",
    "    canvas.shadow_color = 'black'\n",
    "    canvas.shadow_offset_x = 4\n",
    "    canvas.shadow_offset_y = 1\n",
    "    canvas.shadow_blur = 2\n",
    "\n",
    "    couleurs = ['red', 'green', 'blue', 'orange', 'pink', 'yellow']\n",
    "    couleurs = couleurs * (n // len(couleurs) + 1) # il faut au moins autant des couleurs pour tous les brins\n",
    "    \n",
    "    # on prend une marge\n",
    "    canvas.translate(10, 10)\n",
    "    \n",
    "    # on se donne une fonction pour dessiner une ligne avec un croisement sigma\n",
    "    def cross(sigma): \n",
    "        colonne = abs(sigma) - 1\n",
    "        canvas.save()\n",
    "        \n",
    "        def de_gauche_a_droite():  # pour dessiner un brin en diagonale gauche droite\n",
    "            canvas.begin_path()\n",
    "            canvas.stroke_style = couleurs[colonne]\n",
    "            canvas.move_to(0 , 0)\n",
    "            canvas.bezier_curve_to(0, demi_maille, maille, maille - demi_maille, maille, maille)\n",
    "            canvas.stroke()\n",
    "            \n",
    "        def de_droite_a_gauche(): # pour dessiner un brin en diagonale droite gauche\n",
    "            canvas.begin_path()\n",
    "            canvas.stroke_style = couleurs[colonne + 1]\n",
    "            canvas.move_to(maille, 0)\n",
    "            canvas.bezier_curve_to(maille, demi_maille, 0, maille - demi_maille, 0, maille)\n",
    "            canvas.stroke()\n",
    "            \n",
    "        def tout_droit(cln):        # pour dessiner brin tout droit\n",
    "            canvas.begin_path()\n",
    "            canvas.stroke_style = couleurs[cln]\n",
    "            canvas.move_to(0 , 0)\n",
    "            canvas.line_to(0, maille)\n",
    "            canvas.stroke()\n",
    "        \n",
    "        for i in range(n+1):              # on boucle sur les colonnes\n",
    "            if i == colonne:              # c'est un croisement\n",
    "                if sigma > 0:             # il est positif                   \n",
    "                    de_gauche_a_droite()\n",
    "                    de_droite_a_gauche()\n",
    "                else:                     # il est négatif\n",
    "                    de_droite_a_gauche()\n",
    "                    de_gauche_a_droite()\n",
    "            elif i < colonne or i > colonne + 1:  # c'est tout droit\n",
    "                tout_droit(i)\n",
    "        \n",
    "            canvas.translate(maille, 0)  # quoiqu'il arrive on se décale d'une colonne à droite      \n",
    "\n",
    "        canvas.restore()\n",
    "\n",
    "        # on permute les colonnes correspondant au générateur traité\n",
    "        couleurs[colonne], couleurs[colonne + 1] = couleurs[colonne + 1], couleurs[colonne] \n",
    "\n",
    "   \n",
    "    for sigma in tresse:          # on boucle sur les générateurs\n",
    "        cross(sigma)              # on dessine la ligne\n",
    "        canvas.translate(0, maille)  # on descend d'une ligne\n",
    "        \n",
    "    return canvas   \n"
   ]
  },
  {
   "cell_type": "code",
   "execution_count": 65,
   "metadata": {},
   "outputs": [
    {
     "data": {
      "application/vnd.jupyter.widget-view+json": {
       "model_id": "69ce7d8033e94bf4b4302665e60502ce",
       "version_major": 2,
       "version_minor": 0
      },
      "text/plain": [
       "Canvas(height=260, sync_image_data=True, width=265)"
      ]
     },
     "metadata": {},
     "output_type": "display_data"
    }
   ],
   "source": [
    "t1 = dessine_tresse([4, -2, 3, -2])\n",
    "t1"
   ]
  },
  {
   "cell_type": "code",
   "execution_count": 66,
   "metadata": {},
   "outputs": [
    {
     "data": {
      "application/vnd.jupyter.widget-view+json": {
       "model_id": "7d4bc8bc2e2144e58eed019fa6f67bed",
       "version_major": 2,
       "version_minor": 0
      },
      "text/plain": [
       "Canvas(height=380, sync_image_data=True, width=265)"
      ]
     },
     "metadata": {},
     "output_type": "display_data"
    }
   ],
   "source": [
    "t2 = dessine_tresse([4, 3, 2, 1, -1, 2])\n",
    "t2"
   ]
  },
  {
   "cell_type": "code",
   "execution_count": 67,
   "metadata": {},
   "outputs": [
    {
     "data": {
      "application/vnd.jupyter.widget-view+json": {
       "model_id": "049f56c544514d6c98bcf33486d42475",
       "version_major": 2,
       "version_minor": 0
      },
      "text/plain": [
       "Canvas(height=200, sync_image_data=True, width=445)"
      ]
     },
     "metadata": {},
     "output_type": "display_data"
    }
   ],
   "source": [
    "t3 = dessine_tresse([-1, -2, -7])\n",
    "t3"
   ]
  },
  {
   "cell_type": "code",
   "execution_count": 68,
   "metadata": {},
   "outputs": [],
   "source": [
    "t1.to_file('4m23m2.png')"
   ]
  },
  {
   "cell_type": "code",
   "execution_count": null,
   "metadata": {},
   "outputs": [],
   "source": []
  }
 ],
 "metadata": {
  "kernelspec": {
   "display_name": "Python 3",
   "language": "python",
   "name": "python3"
  },
  "language_info": {
   "codemirror_mode": {
    "name": "ipython",
    "version": 3
   },
   "file_extension": ".py",
   "mimetype": "text/x-python",
   "name": "python",
   "nbconvert_exporter": "python",
   "pygments_lexer": "ipython3",
   "version": "3.7.4"
  }
 },
 "nbformat": 4,
 "nbformat_minor": 4
}
