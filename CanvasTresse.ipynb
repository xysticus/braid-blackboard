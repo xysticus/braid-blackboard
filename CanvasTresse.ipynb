{
 "cells": [
  {
   "cell_type": "code",
   "execution_count": 1,
   "metadata": {},
   "outputs": [],
   "source": [
    "from ipycanvas import Canvas\n",
    "from typing import List\n",
    "\n",
    "import math\n",
    "\n",
    "def dessine_tresse(tresse: List[int]) -> Canvas :\n",
    "    \"\"\" Dessine une tresse sur un Canvas d'après son mot\n",
    "    \n",
    "        Args:\n",
    "            tresse: mot de tresse\n",
    "            \n",
    "        Return:\n",
    "            le canvas avec le dessin\n",
    "    \"\"\"\n",
    "\n",
    "    maille = 60\n",
    "    demi_maille = maille / 2\n",
    "    \n",
    "    n = abs(max(tresse, key = lambda x:abs(x)))\n",
    "    largeur = n * maille + 25\n",
    "    \n",
    "    hauteur = len(tresse)*maille +20\n",
    "    \n",
    "    canvas = Canvas(width=largeur, height = hauteur, sync_image_data=True)\n",
    "    canvas.fill_style = 'beige'\n",
    "    canvas.fill_rect(0, 0, largeur, hauteur)\n",
    "    canvas.translate(10, 10)\n",
    "#    canvas.rotate(-math.pi/2)\n",
    "#    canvas.translate(-300, 0)\n",
    "    couleurs = ['red', 'green', 'blue', 'orange', 'pink', 'yellow']\n",
    "    \n",
    "     \n",
    "    def cross(sigma):\n",
    "    \n",
    "        colonne = abs(sigma) - 1\n",
    "        canvas.save()\n",
    "        canvas.line_width = maille / 10\n",
    "        canvas.line_cap = 'round'\n",
    "        \n",
    "\n",
    "        canvas.shadow_color = 'black'\n",
    "        canvas.shadow_offset_x = 4\n",
    "        canvas.shadow_offset_y = 1\n",
    "        canvas.shadow_blur = 2\n",
    "\n",
    "        canvas.save()\n",
    "        canvas.translate(colonne * maille, 0)\n",
    "\n",
    "        if sigma >= 0:\n",
    "            canvas.begin_path()\n",
    "            canvas.stroke_style = couleurs[colonne]\n",
    "            canvas.move_to(0 , 0)\n",
    "            canvas.bezier_curve_to(0, demi_maille, maille, maille - demi_maille, maille, maille)\n",
    "            canvas.stroke()\n",
    "\n",
    "            canvas.begin_path()\n",
    "            canvas.stroke_style = couleurs[colonne + 1]\n",
    "            canvas.move_to(maille, 0)\n",
    "            canvas.bezier_curve_to(maille, demi_maille, 0, maille - demi_maille, 0, maille)\n",
    "            canvas.stroke()\n",
    "\n",
    "        if sigma < 0:\n",
    "            canvas.begin_path()\n",
    "            canvas.stroke_style = couleurs[colonne + 1]\n",
    "            canvas.move_to(maille, 0)\n",
    "            canvas.bezier_curve_to(maille, demi_maille, 0, maille - demi_maille, 0, maille)\n",
    "            canvas.stroke()\n",
    "\n",
    "            canvas.begin_path()\n",
    "            canvas.stroke_style = couleurs[colonne]\n",
    "            canvas.move_to(0 , 0)\n",
    "            canvas.bezier_curve_to(0, demi_maille, maille, maille - demi_maille, maille, maille)\n",
    "            canvas.stroke()\n",
    "\n",
    "        canvas.restore()\n",
    "\n",
    "        canvas.save()\n",
    "\n",
    "        for i in range(abs(colonne)):\n",
    "            canvas.begin_path()\n",
    "            canvas.stroke_style = couleurs[i]\n",
    "            canvas.move_to(0 , 0)\n",
    "            canvas.line_to(0, maille)\n",
    "            canvas.stroke()\n",
    "            canvas.translate(maille, 0)        \n",
    "\n",
    "        canvas.restore()\n",
    "\n",
    "        canvas.save()\n",
    "\n",
    "        canvas.translate(maille * (colonne + 2), 0)\n",
    "\n",
    "        for i in range(abs(colonne)+2, n+1):\n",
    "            canvas.begin_path()\n",
    "            canvas.stroke_style = couleurs[i]\n",
    "            canvas.move_to(0 , 0)\n",
    "            canvas.line_to(0, maille)\n",
    "            canvas.stroke()\n",
    "            canvas.translate(maille, 0)\n",
    "\n",
    "        canvas.restore()\n",
    "\n",
    "        couleurs[colonne], couleurs[colonne + 1] = couleurs[colonne + 1], couleurs[colonne] \n",
    "\n",
    "   \n",
    "    for sigma in tresse:\n",
    "        cross(sigma)\n",
    "        canvas.translate(0, maille)\n",
    "        \n",
    "    return canvas   \n"
   ]
  },
  {
   "cell_type": "code",
   "execution_count": 2,
   "metadata": {},
   "outputs": [
    {
     "data": {
      "application/vnd.jupyter.widget-view+json": {
       "model_id": "90ddf1e8f3a348e2a90429e5d2a53dba",
       "version_major": 2,
       "version_minor": 0
      },
      "text/plain": [
       "Canvas(height=260, sync_image_data=True, width=265)"
      ]
     },
     "metadata": {},
     "output_type": "display_data"
    }
   ],
   "source": [
    "t1 = dessine_tresse([4, -2, 3, -2])\n",
    "t1"
   ]
  },
  {
   "cell_type": "code",
   "execution_count": 3,
   "metadata": {},
   "outputs": [
    {
     "data": {
      "application/vnd.jupyter.widget-view+json": {
       "model_id": "4b1dc474f4f042c9a6a3eec2cb987a27",
       "version_major": 2,
       "version_minor": 0
      },
      "text/plain": [
       "Canvas(height=380, sync_image_data=True, width=265)"
      ]
     },
     "metadata": {},
     "output_type": "display_data"
    }
   ],
   "source": [
    "t2 = dessine_tresse([4, 3, 2, 1, -1, 2])\n",
    "t2"
   ]
  },
  {
   "cell_type": "code",
   "execution_count": 4,
   "metadata": {},
   "outputs": [
    {
     "data": {
      "application/vnd.jupyter.widget-view+json": {
       "model_id": "6224b92ed2c540749b03235206a55280",
       "version_major": 2,
       "version_minor": 0
      },
      "text/plain": [
       "Canvas(height=200, sync_image_data=True, width=205)"
      ]
     },
     "metadata": {},
     "output_type": "display_data"
    }
   ],
   "source": [
    "t3 = dessine_tresse([-1, -2, -3])\n",
    "t3"
   ]
  },
  {
   "cell_type": "code",
   "execution_count": 5,
   "metadata": {},
   "outputs": [],
   "source": [
    "t1.to_file('4m23m2.png')"
   ]
  },
  {
   "cell_type": "code",
   "execution_count": null,
   "metadata": {},
   "outputs": [],
   "source": []
  }
 ],
 "metadata": {
  "kernelspec": {
   "display_name": "Python 3.7.4 64-bit ('anaconda3': virtualenv)",
   "language": "python",
   "name": "python37464bitanaconda3virtualenv4a30ef8849014c1cb4146a630a2766b7"
  },
  "language_info": {
   "codemirror_mode": {
    "name": "ipython",
    "version": 3
   },
   "file_extension": ".py",
   "mimetype": "text/x-python",
   "name": "python",
   "nbconvert_exporter": "python",
   "pygments_lexer": "ipython3",
   "version": "3.7.4"
  }
 },
 "nbformat": 4,
 "nbformat_minor": 4
}
